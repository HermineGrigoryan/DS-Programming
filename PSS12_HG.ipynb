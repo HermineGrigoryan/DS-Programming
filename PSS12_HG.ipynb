{
 "cells": [
  {
   "cell_type": "markdown",
   "metadata": {
    "id": "wfL-YJl1fVOS"
   },
   "source": [
    "# Problem Solving Session 12\n",
    "## Topic: Lecture 8 - Numpy\n",
    "##### Date: March 6, 2021\n",
    "##### By: Hermine Grigoryan"
   ]
  },
  {
   "cell_type": "markdown",
   "metadata": {},
   "source": [
    "[Numpy - cheat sheet](https://s3.amazonaws.com/assets.datacamp.com/blog_assets/Numpy_Python_Cheat_Sheet.pdf)"
   ]
  },
  {
   "cell_type": "markdown",
   "metadata": {},
   "source": [
    "## Imports"
   ]
  },
  {
   "cell_type": "code",
   "execution_count": 1,
   "metadata": {},
   "outputs": [],
   "source": [
    "import numpy as np\n",
    "np.set_printoptions(suppress=True, precision=4)"
   ]
  },
  {
   "cell_type": "markdown",
   "metadata": {},
   "source": [
    "## Exercises"
   ]
  },
  {
   "cell_type": "markdown",
   "metadata": {},
   "source": [
    "### Exercise 1"
   ]
  },
  {
   "cell_type": "markdown",
   "metadata": {},
   "source": [
    "Write a function which calculates the Euclidean distance between two arrays.\n",
    "$d\\left( p,q\\right)   = \\sqrt {\\sum _{i=1}^{n}  \\left( q_{i}-p_{i}\\right)^2 }$\n",
    "\n",
    "1. Use list comprehensions\n",
    "2. Use numpy functionality\n",
    "3. Compare the two approaches\n",
    "\n"
   ]
  },
  {
   "cell_type": "code",
   "execution_count": 2,
   "metadata": {},
   "outputs": [],
   "source": [
    "np.random.seed(42)\n",
    "one = np.random.randint(0, 10, 1_000_000) # 1,000,000 random integers [0-9]\n",
    "two = np.random.randint(0, 10, 1_000_000)"
   ]
  },
  {
   "cell_type": "code",
   "execution_count": 3,
   "metadata": {},
   "outputs": [
    {
     "name": "stdout",
     "output_type": "stream",
     "text": [
      "len: 1000000 1000000\n",
      "dim: 1 1\n",
      "shape: (1000000,) (1000000,)\n",
      "type: <class 'numpy.ndarray'> <class 'numpy.ndarray'>\n",
      "type: int32 int32\n"
     ]
    }
   ],
   "source": [
    "print('len:', len(one), len(two))\n",
    "print('dim:', one.ndim, two.ndim)\n",
    "print('shape:', one.shape, two.shape)\n",
    "print('type:', type(one), type(two))\n",
    "print('type:', one.dtype, two.dtype)"
   ]
  },
  {
   "cell_type": "code",
   "execution_count": 4,
   "metadata": {},
   "outputs": [],
   "source": [
    "def euclidean_distance(one, two, calc_type='numpy'):\n",
    "    if calc_type=='list_comp':\n",
    "        distance = (sum([(i-j)**2 for i,j in zip(one, two)]))**0.5\n",
    "    elif calc_type=='numpy':\n",
    "        distance = np.sqrt(np.sum((np.array(one)-np.array(two))**2))\n",
    "    else:\n",
    "        distance = 'The possible calculation types are \"list_comp\" and \"numpy\"'\n",
    "    return distance    "
   ]
  },
  {
   "cell_type": "code",
   "execution_count": 5,
   "metadata": {},
   "outputs": [
    {
     "name": "stdout",
     "output_type": "stream",
     "text": [
      "Wall time: 11 ms\n"
     ]
    },
    {
     "data": {
      "text/plain": [
       "4061.5244674875466"
      ]
     },
     "execution_count": 5,
     "metadata": {},
     "output_type": "execute_result"
    }
   ],
   "source": [
    "%%time\n",
    "euclidean_distance(one, two, 'numpy')"
   ]
  },
  {
   "cell_type": "code",
   "execution_count": 6,
   "metadata": {},
   "outputs": [
    {
     "name": "stdout",
     "output_type": "stream",
     "text": [
      "Wall time: 641 ms\n"
     ]
    },
    {
     "data": {
      "text/plain": [
       "4061.5244674875466"
      ]
     },
     "execution_count": 6,
     "metadata": {},
     "output_type": "execute_result"
    }
   ],
   "source": [
    "%%time\n",
    "euclidean_distance(one, two, 'list_comp')"
   ]
  },
  {
   "cell_type": "code",
   "execution_count": 7,
   "metadata": {},
   "outputs": [
    {
     "name": "stdout",
     "output_type": "stream",
     "text": [
      "6.93 ms ± 705 µs per loop (mean ± std. dev. of 7 runs, 100 loops each)\n"
     ]
    }
   ],
   "source": [
    "%%timeit\n",
    "euclidean_distance(one, two, 'numpy')"
   ]
  },
  {
   "cell_type": "code",
   "execution_count": 8,
   "metadata": {
    "scrolled": false
   },
   "outputs": [
    {
     "name": "stdout",
     "output_type": "stream",
     "text": [
      "578 ms ± 7.8 ms per loop (mean ± std. dev. of 7 runs, 1 loop each)\n"
     ]
    }
   ],
   "source": [
    "%%timeit\n",
    "euclidean_distance(one, two, 'list_comp')"
   ]
  },
  {
   "cell_type": "markdown",
   "metadata": {},
   "source": [
    "### Exercise 2\n",
    "Write a function to create a 2D array of arbitrary shape. This array should have all zero values, except for the elements around the border (i.e., the first and last rows, and the first and last columns), which should have a value of one."
   ]
  },
  {
   "cell_type": "code",
   "execution_count": 9,
   "metadata": {},
   "outputs": [],
   "source": [
    "def border_matrix(rows, cols):\n",
    "    ones = np.ones((rows,cols))\n",
    "    ones[1:rows-1, 1:cols-1] = 0\n",
    "    return ones"
   ]
  },
  {
   "cell_type": "code",
   "execution_count": 10,
   "metadata": {},
   "outputs": [
    {
     "data": {
      "text/plain": [
       "array([[1., 1., 1., 1., 1., 1., 1., 1., 1., 1.],\n",
       "       [1., 0., 0., 0., 0., 0., 0., 0., 0., 1.],\n",
       "       [1., 0., 0., 0., 0., 0., 0., 0., 0., 1.],\n",
       "       [1., 0., 0., 0., 0., 0., 0., 0., 0., 1.],\n",
       "       [1., 0., 0., 0., 0., 0., 0., 0., 0., 1.],\n",
       "       [1., 0., 0., 0., 0., 0., 0., 0., 0., 1.],\n",
       "       [1., 0., 0., 0., 0., 0., 0., 0., 0., 1.],\n",
       "       [1., 1., 1., 1., 1., 1., 1., 1., 1., 1.]])"
      ]
     },
     "execution_count": 10,
     "metadata": {},
     "output_type": "execute_result"
    }
   ],
   "source": [
    "border_matrix(8, 10)"
   ]
  },
  {
   "cell_type": "markdown",
   "metadata": {},
   "source": [
    "### Exercise 3\n",
    "Now, we will create a table on 100 basketball players. Create height, weight, age and BMI (BMI = kg/m^2) for 100 players. \n",
    "* Calculate summary statistics. \n",
    "* What is the age of the fifth player?  \n",
    "* What is the weight of the tallest player?\n",
    "* How many players are older than 30?\n",
    "* Convert the height from centimeter to inches, and weight from kg to pounds.\n",
    "  - 1 cm = 0.393701 inches, 1 kg = 2.20462 pounds\n",
    "* Normalize the Age, so that the values range between 0 and 1."
   ]
  },
  {
   "cell_type": "code",
   "execution_count": 11,
   "metadata": {},
   "outputs": [],
   "source": [
    "np.random.seed(42)\n",
    "height = np.random.normal(190, 5, 100)\n",
    "weight = np.random.normal(85, 10, 100)\n",
    "age = np.floor(np.random.normal(25, 3, 100))\n",
    "bmi = weight/(height/100)**2"
   ]
  },
  {
   "cell_type": "code",
   "execution_count": 12,
   "metadata": {},
   "outputs": [
    {
     "data": {
      "text/plain": [
       "array([[192.4836,  70.8463,  26.    ,  19.1218],\n",
       "       [189.3087,  80.7935,  26.    ,  22.5442],\n",
       "       [193.2384,  81.5729,  28.    ,  21.8453],\n",
       "       [197.6151,  76.9772,  28.    ,  19.7116],\n",
       "       [188.8292,  83.3871,  20.    ,  23.3863],\n",
       "       [188.8293,  89.0405,  22.    ,  24.9717],\n",
       "       [197.8961, 103.8619,  26.    ,  26.5205],\n",
       "       [193.8372,  86.7458,  26.    ,  23.0874],\n",
       "       [187.6526,  87.5755,  26.    ,  24.8699],\n",
       "       [192.7128,  84.2555,  36.    ,  22.687 ]])"
      ]
     },
     "execution_count": 12,
     "metadata": {},
     "output_type": "execute_result"
    }
   ],
   "source": [
    "player_data = np.column_stack((height, weight, age, bmi))\n",
    "player_data[:10,] #show the first 10 rows"
   ]
  },
  {
   "cell_type": "code",
   "execution_count": 13,
   "metadata": {},
   "outputs": [
    {
     "data": {
      "text/plain": [
       "(100, 4)"
      ]
     },
     "execution_count": 13,
     "metadata": {},
     "output_type": "execute_result"
    }
   ],
   "source": [
    "player_data.shape"
   ]
  },
  {
   "cell_type": "code",
   "execution_count": 14,
   "metadata": {},
   "outputs": [
    {
     "name": "stdout",
     "output_type": "stream",
     "text": [
      "Mean [189.4808  85.223   24.71    23.7966]\n",
      "St.dev [4.5181 9.4889 3.2227 3.0762]\n",
      "Median [189.4808  85.223   24.71    23.7966]\n",
      "Min [176.9013  65.8123  15.      18.6835]\n",
      "Max [199.2614 112.2017  36.      34.6062]\n"
     ]
    }
   ],
   "source": [
    "# Summary statistics\n",
    "print('Mean', np.mean(player_data, axis=0))\n",
    "print('St.dev', np.std(player_data, axis=0))\n",
    "print('Median', np.mean(player_data, axis=0))\n",
    "print('Min', np.min(player_data, axis=0))\n",
    "print('Max', np.max(player_data, axis=0))"
   ]
  },
  {
   "cell_type": "code",
   "execution_count": 15,
   "metadata": {},
   "outputs": [
    {
     "data": {
      "text/plain": [
       "22.0"
      ]
     },
     "execution_count": 15,
     "metadata": {},
     "output_type": "execute_result"
    }
   ],
   "source": [
    "# Age of the fifth player\n",
    "player_data[5,2]"
   ]
  },
  {
   "cell_type": "code",
   "execution_count": 16,
   "metadata": {},
   "outputs": [
    {
     "data": {
      "text/plain": [
       "85.68562974806028"
      ]
     },
     "execution_count": 16,
     "metadata": {},
     "output_type": "execute_result"
    }
   ],
   "source": [
    "# Weight of the tallest player\n",
    "idx = player_data[:,0].argmax() #identifying the index of the max height\n",
    "player_data[idx, 1]"
   ]
  },
  {
   "cell_type": "code",
   "execution_count": 17,
   "metadata": {},
   "outputs": [
    {
     "data": {
      "text/plain": [
       "5"
      ]
     },
     "execution_count": 17,
     "metadata": {},
     "output_type": "execute_result"
    }
   ],
   "source": [
    "# Number of players older than 30\n",
    "np.sum(player_data[:,2]>30)"
   ]
  },
  {
   "cell_type": "code",
   "execution_count": 18,
   "metadata": {},
   "outputs": [
    {
     "data": {
      "text/plain": [
       "array([[ 75.781 , 156.1892,  26.    ,  19.1218],\n",
       "       [ 74.531 , 178.1191,  26.    ,  22.5442],\n",
       "       [ 76.0782, 179.8371,  28.    ,  21.8453],\n",
       "       [ 77.8013, 169.7055,  28.    ,  19.7116],\n",
       "       [ 74.3423, 183.837 ,  20.    ,  23.3863],\n",
       "       [ 74.3423, 196.3005,  22.    ,  24.9717],\n",
       "       [ 77.9119, 228.9759,  26.    ,  26.5205],\n",
       "       [ 76.3139, 191.2415,  26.    ,  23.0874],\n",
       "       [ 73.879 , 193.0707,  26.    ,  24.8699],\n",
       "       [ 75.8712, 185.7515,  36.    ,  22.687 ]])"
      ]
     },
     "execution_count": 18,
     "metadata": {},
     "output_type": "execute_result"
    }
   ],
   "source": [
    "conversion = np.array([0.393701, 2.20462, 1, 1]) # creating an array for conversion\n",
    "player_data = player_data*conversion\n",
    "player_data[:10]"
   ]
  },
  {
   "cell_type": "code",
   "execution_count": 19,
   "metadata": {},
   "outputs": [
    {
     "data": {
      "text/plain": [
       "array([[ 75.781 , 156.1892,   0.5238,  19.1218],\n",
       "       [ 74.531 , 178.1191,   0.5238,  22.5442],\n",
       "       [ 76.0782, 179.8371,   0.619 ,  21.8453],\n",
       "       [ 77.8013, 169.7055,   0.619 ,  19.7116],\n",
       "       [ 74.3423, 183.837 ,   0.2381,  23.3863],\n",
       "       [ 74.3423, 196.3005,   0.3333,  24.9717],\n",
       "       [ 77.9119, 228.9759,   0.5238,  26.5205],\n",
       "       [ 76.3139, 191.2415,   0.5238,  23.0874],\n",
       "       [ 73.879 , 193.0707,   0.5238,  24.8699],\n",
       "       [ 75.8712, 185.7515,   1.    ,  22.687 ]])"
      ]
     },
     "execution_count": 19,
     "metadata": {},
     "output_type": "execute_result"
    }
   ],
   "source": [
    "# Normalizing Age using min-max scaling\n",
    "max_val = player_data[:,2].max()\n",
    "min_val = player_data[:,2].min()\n",
    "\n",
    "player_data[:,2] = (player_data[:,2] - min_val)/(max_val - min_val)\n",
    "player_data[:10]"
   ]
  },
  {
   "cell_type": "markdown",
   "metadata": {},
   "source": [
    "### Exercise 4"
   ]
  },
  {
   "cell_type": "markdown",
   "metadata": {},
   "source": [
    "* Convert the following 1-D array with 12 elements into a 3-D array. \n",
    "* Flatten back the array. \n",
    "* Find the sum of all multiples of 3 and 5."
   ]
  },
  {
   "cell_type": "code",
   "execution_count": 20,
   "metadata": {},
   "outputs": [],
   "source": [
    "arr = np.array([1, 2, 3, 4, 5, 6, 7, 8, 9, 10, 11, 12])"
   ]
  },
  {
   "cell_type": "code",
   "execution_count": 21,
   "metadata": {},
   "outputs": [
    {
     "data": {
      "text/plain": [
       "array([[[ 1,  2],\n",
       "        [ 3,  4],\n",
       "        [ 5,  6]],\n",
       "\n",
       "       [[ 7,  8],\n",
       "        [ 9, 10],\n",
       "        [11, 12]]])"
      ]
     },
     "execution_count": 21,
     "metadata": {},
     "output_type": "execute_result"
    }
   ],
   "source": [
    "arr.reshape((2, 3, 2)) #height, row, column"
   ]
  },
  {
   "cell_type": "code",
   "execution_count": 22,
   "metadata": {},
   "outputs": [],
   "source": [
    "arr.resize((2, 3, 2)) #in-place calculation"
   ]
  },
  {
   "cell_type": "code",
   "execution_count": 23,
   "metadata": {},
   "outputs": [
    {
     "data": {
      "text/plain": [
       "array([[[ 1,  2],\n",
       "        [ 3,  4],\n",
       "        [ 5,  6]],\n",
       "\n",
       "       [[ 7,  8],\n",
       "        [ 9, 10],\n",
       "        [11, 12]]])"
      ]
     },
     "execution_count": 23,
     "metadata": {},
     "output_type": "execute_result"
    }
   ],
   "source": [
    "arr"
   ]
  },
  {
   "cell_type": "code",
   "execution_count": 24,
   "metadata": {},
   "outputs": [
    {
     "data": {
      "text/plain": [
       "array([ 1,  2,  3,  4,  5,  6,  7,  8,  9, 10, 11, 12])"
      ]
     },
     "execution_count": 24,
     "metadata": {},
     "output_type": "execute_result"
    }
   ],
   "source": [
    "arr.reshape(-1) #flattens the nD array to 1D array\n",
    "\n",
    "#OR\n",
    "\n",
    "arr.ravel()"
   ]
  },
  {
   "cell_type": "code",
   "execution_count": 25,
   "metadata": {},
   "outputs": [
    {
     "data": {
      "text/plain": [
       "45"
      ]
     },
     "execution_count": 25,
     "metadata": {},
     "output_type": "execute_result"
    }
   ],
   "source": [
    "np.sum(arr[(arr % 3 == 0) | (arr % 5 == 0)])"
   ]
  },
  {
   "cell_type": "markdown",
   "metadata": {},
   "source": [
    "### Exercise 5\n",
    "Generate a 10 x 3 array of random numbers (in range [0,1]). For each row, pick the number closest to 0.5."
   ]
  },
  {
   "cell_type": "code",
   "execution_count": 26,
   "metadata": {},
   "outputs": [
    {
     "data": {
      "text/plain": [
       "array([[0.282 , 0.1774, 0.7506],\n",
       "       [0.8068, 0.9905, 0.4126],\n",
       "       [0.372 , 0.7764, 0.3408],\n",
       "       [0.9308, 0.8584, 0.429 ],\n",
       "       [0.7509, 0.7545, 0.1031],\n",
       "       [0.9026, 0.5053, 0.8265],\n",
       "       [0.32  , 0.8955, 0.3892],\n",
       "       [0.0108, 0.9054, 0.0913],\n",
       "       [0.3193, 0.9501, 0.9506],\n",
       "       [0.5734, 0.6318, 0.4484]])"
      ]
     },
     "execution_count": 26,
     "metadata": {},
     "output_type": "execute_result"
    }
   ],
   "source": [
    "mat = np.random.rand(10, 3) # creates random numbers [0-1]\n",
    "mat"
   ]
  },
  {
   "cell_type": "code",
   "execution_count": 27,
   "metadata": {},
   "outputs": [
    {
     "data": {
      "text/plain": [
       "array([0, 2, 0, 2, 0, 1, 2, 1, 0, 2], dtype=int64)"
      ]
     },
     "execution_count": 27,
     "metadata": {},
     "output_type": "execute_result"
    }
   ],
   "source": [
    "indx = abs(mat-0.5).argmin(axis=1) # identifies the index which has the closest values to 0.5\n",
    "indx"
   ]
  },
  {
   "cell_type": "code",
   "execution_count": 28,
   "metadata": {},
   "outputs": [
    {
     "data": {
      "text/plain": [
       "array([0.282 , 0.4126, 0.372 , 0.429 , 0.7509, 0.5053, 0.3892, 0.9054,\n",
       "       0.3193, 0.4484])"
      ]
     },
     "execution_count": 28,
     "metadata": {},
     "output_type": "execute_result"
    }
   ],
   "source": [
    "mat[np.arange(mat.shape[0]), indx] # slices the values with the indexes identified above"
   ]
  },
  {
   "cell_type": "markdown",
   "metadata": {},
   "source": [
    "### Exercise 6\n",
    "A magic square is a matrix all of whose row sums, column sums and the sums of the two diagonals are the same. (One diagonal of a matrix goes from the top left to the bottom right, the other diagonal goes from top right to bottom left.) Write a program to check wheter the provided matrix is a magic square."
   ]
  },
  {
   "cell_type": "code",
   "execution_count": 29,
   "metadata": {},
   "outputs": [],
   "source": [
    "A=np.array(\n",
    "   [[17, 24, 1, 8, 15],\n",
    "    [23, 5, 7, 14, 16],\n",
    "    [ 4, 6, 13, 20, 22],\n",
    "    [10, 12, 19, 21, 3],\n",
    "    [11, 18, 25, 2, 9]]\n",
    ")"
   ]
  },
  {
   "cell_type": "code",
   "execution_count": 30,
   "metadata": {},
   "outputs": [],
   "source": [
    "# instead of min-max, we could use np.unique() as well.\n",
    "col = A.sum(axis=0).min() == A.sum(axis=0).max() # if min and max are equal, then there is only one unique value\n",
    "row = A.sum(axis=1).min() == A.sum(axis=1).max()\n",
    "diag = np.diag(A).sum() == np.diag(np.fliplr(A)).sum() # fliplr flips the matrix"
   ]
  },
  {
   "cell_type": "code",
   "execution_count": 31,
   "metadata": {},
   "outputs": [
    {
     "name": "stdout",
     "output_type": "stream",
     "text": [
      "Magic square!\n"
     ]
    }
   ],
   "source": [
    "if col and row and diag:\n",
    "    magic = np.array([A.sum(axis=0).min(),\n",
    "                     A.sum(axis=1).min(),\n",
    "                     np.diag(A).sum()])\n",
    "    \n",
    "    if len(np.unique(magic)) == 1:\n",
    "        print('Magic square!')\n",
    "else:\n",
    "    print('Not a magic square!')"
   ]
  },
  {
   "cell_type": "markdown",
   "metadata": {},
   "source": [
    "### Exercise 7\n",
    "Using Numpy, create the following 8x8 matrix.\n",
    "\n",
    "      [[0, 1, 0, 1, 0, 1, 0, 1],\n",
    "       [1, 0, 1, 0, 1, 0, 1, 0],\n",
    "       [0, 1, 0, 1, 0, 1, 0, 1],\n",
    "       [1, 0, 1, 0, 1, 0, 1, 0],\n",
    "       [0, 1, 0, 1, 0, 1, 0, 1],\n",
    "       [1, 0, 1, 0, 1, 0, 1, 0],\n",
    "       [0, 1, 0, 1, 0, 1, 0, 1],\n",
    "       [1, 0, 1, 0, 1, 0, 1, 0]]"
   ]
  },
  {
   "cell_type": "code",
   "execution_count": 32,
   "metadata": {},
   "outputs": [
    {
     "data": {
      "text/plain": [
       "array([[0, 1, 0, 1, 0, 1, 0, 1],\n",
       "       [1, 0, 1, 0, 1, 0, 1, 0],\n",
       "       [0, 1, 0, 1, 0, 1, 0, 1],\n",
       "       [1, 0, 1, 0, 1, 0, 1, 0],\n",
       "       [0, 1, 0, 1, 0, 1, 0, 1],\n",
       "       [1, 0, 1, 0, 1, 0, 1, 0],\n",
       "       [0, 1, 0, 1, 0, 1, 0, 1],\n",
       "       [1, 0, 1, 0, 1, 0, 1, 0]])"
      ]
     },
     "execution_count": 32,
     "metadata": {},
     "output_type": "execute_result"
    }
   ],
   "source": [
    "mat = np.zeros((8,8), dtype='int')\n",
    "mat[1::2, ::2] = 1\n",
    "mat[::2, 1::2] = 1\n",
    "mat"
   ]
  }
 ],
 "metadata": {
  "kernelspec": {
   "display_name": "Python 3",
   "language": "python",
   "name": "python3"
  },
  "language_info": {
   "codemirror_mode": {
    "name": "ipython",
    "version": 3
   },
   "file_extension": ".py",
   "mimetype": "text/x-python",
   "name": "python",
   "nbconvert_exporter": "python",
   "pygments_lexer": "ipython3",
   "version": "3.8.3"
  },
  "toc": {
   "base_numbering": 1,
   "nav_menu": {},
   "number_sections": true,
   "sideBar": true,
   "skip_h1_title": false,
   "title_cell": "Table of Contents",
   "title_sidebar": "Contents",
   "toc_cell": false,
   "toc_position": {},
   "toc_section_display": true,
   "toc_window_display": true
  }
 },
 "nbformat": 4,
 "nbformat_minor": 4
}
