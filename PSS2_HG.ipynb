{
 "cells": [
  {
   "cell_type": "markdown",
   "metadata": {
    "id": "5XDoTpRPUccL"
   },
   "source": [
    "# Problem Solving Session 2\n",
    "## Topic: Lecture 2 - Objects, data types, operators and precedence\n",
    "##### Date: 30 January, 2020\n",
    "##### By: Hermine Grigoryan"
   ]
  },
  {
   "cell_type": "markdown",
   "metadata": {
    "id": "PTgrseaBUccW"
   },
   "source": [
    "### 1. Objects, Identifiers, Assignment and Print"
   ]
  },
  {
   "cell_type": "markdown",
   "metadata": {
    "id": "hhFhe61hW42S"
   },
   "source": [
    "#### id()"
   ]
  },
  {
   "cell_type": "markdown",
   "metadata": {
    "id": "ScBG0upMiR-7"
   },
   "source": [
    "##### Questions"
   ]
  },
  {
   "cell_type": "markdown",
   "metadata": {
    "id": "AFMWY8SeY8-h"
   },
   "source": [
    "1. Will an object's memory address in Python be the same for each time you run a program?\n",
    "2. T/F Only integers in Python have id.\n",
    "3. Will the id-s of integers/strings/floats be the same for the same session?"
   ]
  },
  {
   "cell_type": "markdown",
   "metadata": {
    "id": "MeWmBLIHXIk-"
   },
   "source": [
    "##### Answers"
   ]
  },
  {
   "cell_type": "markdown",
   "metadata": {
    "id": "21JPTTRTYuwZ"
   },
   "source": [
    "1. Integers [-5:256] have the same id for the same session. Other integers will have different ids.\n",
    "2. All strings with one character have the same id for the same session. All alphanumeric (containing digits and letters) strings will have the same id for the same session. Strings with non-alphanumeric characters that have more than one character have different id in the same session.\n",
    "3. Floats have different id for the same session."
   ]
  },
  {
   "cell_type": "code",
   "execution_count": null,
   "metadata": {
    "colab": {
     "base_uri": "https://localhost:8080/"
    },
    "executionInfo": {
     "elapsed": 714,
     "status": "ok",
     "timestamp": 1611851677692,
     "user": {
      "displayName": "Hermine Grigoryan",
      "photoUrl": "https://lh3.googleusercontent.com/a-/AOh14GjLwIo-2VVUykQLxY5cizSa0c6YxyRviiU_gbgszA=s64",
      "userId": "06963124555133391589"
     },
     "user_tz": -240
    },
    "id": "MUxLzzBSZtcK",
    "outputId": "242ce13a-cd39-4552-bdfc-8898a0d610ee"
   },
   "outputs": [
    {
     "name": "stdout",
     "output_type": "stream",
     "text": [
      "a=100 10920864\n",
      "b=100 10920864\n",
      "\n",
      "\n",
      "a=1000 140635461754384\n",
      "b=1000 140635461754416\n",
      "\n",
      "\n",
      "a=-20 140635461754576\n",
      "b=-20 140635461754320\n"
     ]
    }
   ],
   "source": [
    "# integers [-5:256]\n",
    "a = 100\n",
    "b = 100\n",
    "print('a=100', id(a+a))\n",
    "print('b=100', id(b*2))\n",
    "print('\\n')\n",
    "\n",
    "# big integers\n",
    "a = 1000\n",
    "b = 1000\n",
    "print('a=1000', id(a+a))\n",
    "print('b=1000', id(b*2))\n",
    "print('\\n')\n",
    "\n",
    "# small integers\n",
    "a = -20\n",
    "b = -20\n",
    "print('a=-20', id(a+a))\n",
    "print('b=-20', id(b*2))"
   ]
  },
  {
   "cell_type": "code",
   "execution_count": null,
   "metadata": {
    "colab": {
     "base_uri": "https://localhost:8080/"
    },
    "executionInfo": {
     "elapsed": 1030,
     "status": "ok",
     "timestamp": 1611851678038,
     "user": {
      "displayName": "Hermine Grigoryan",
      "photoUrl": "https://lh3.googleusercontent.com/a-/AOh14GjLwIo-2VVUykQLxY5cizSa0c6YxyRviiU_gbgszA=s64",
      "userId": "06963124555133391589"
     },
     "user_tz": -240
    },
    "id": "byAwp3cjf-g3",
    "outputId": "3f264236-0744-4603-f9d9-516176d60583"
   },
   "outputs": [
    {
     "name": "stdout",
     "output_type": "stream",
     "text": [
      "a is b: False\n",
      "a == b: True\n",
      "\n",
      "\n",
      "a is b: True\n",
      "a == b: True\n",
      "\n",
      "\n",
      "a is b: True\n",
      "a == b: True\n",
      "\n",
      "\n"
     ]
    }
   ],
   "source": [
    "# string with non-alphanumeric characters\n",
    "a = 'My name is Hermine'\n",
    "b = 'My name is Hermine'\n",
    "print('a is b:', a is b) # why?\n",
    "print('a == b:', a == b) # why?\n",
    "print('\\n')\n",
    "\n",
    "# string with alphanumeric characters\n",
    "a = '2MyNameIsHermine'\n",
    "b = '2MyNameIsHermine'\n",
    "print('a is b:', a is b) # why?\n",
    "print('a == b:', a == b) # why?\n",
    "print('\\n')\n",
    "\n",
    "# string with non-alphanumeric characters (one character)\n",
    "a = '.'\n",
    "b = '.'\n",
    "print('a is b:', a is b) # why?\n",
    "print('a == b:', a == b) # why?\n",
    "print('\\n')"
   ]
  },
  {
   "cell_type": "code",
   "execution_count": null,
   "metadata": {
    "colab": {
     "base_uri": "https://localhost:8080/"
    },
    "executionInfo": {
     "elapsed": 1025,
     "status": "ok",
     "timestamp": 1611851678043,
     "user": {
      "displayName": "Hermine Grigoryan",
      "photoUrl": "https://lh3.googleusercontent.com/a-/AOh14GjLwIo-2VVUykQLxY5cizSa0c6YxyRviiU_gbgszA=s64",
      "userId": "06963124555133391589"
     },
     "user_tz": -240
    },
    "id": "4Ug9CL-uZMSn",
    "outputId": "74450bbf-6aa2-4ebc-fbef-c53031fd8245"
   },
   "outputs": [
    {
     "name": "stdout",
     "output_type": "stream",
     "text": [
      "140635480153064\n",
      "140635480153040\n"
     ]
    }
   ],
   "source": [
    "# floats\n",
    "a = 5.0\n",
    "b = 5.0\n",
    "print(id(a))\n",
    "print(id(b))"
   ]
  },
  {
   "cell_type": "code",
   "execution_count": null,
   "metadata": {
    "colab": {
     "base_uri": "https://localhost:8080/"
    },
    "executionInfo": {
     "elapsed": 1020,
     "status": "ok",
     "timestamp": 1611851678045,
     "user": {
      "displayName": "Hermine Grigoryan",
      "photoUrl": "https://lh3.googleusercontent.com/a-/AOh14GjLwIo-2VVUykQLxY5cizSa0c6YxyRviiU_gbgszA=s64",
      "userId": "06963124555133391589"
     },
     "user_tz": -240
    },
    "id": "ob2Xm4PPheWT",
    "outputId": "5dfa6fe3-0003-489a-b84a-31b79ff4a478"
   },
   "outputs": [
    {
     "name": "stdout",
     "output_type": "stream",
     "text": [
      "None: True\n",
      "True: True\n",
      "False: True\n"
     ]
    }
   ],
   "source": [
    "# None, True, False always have the same id, regardless of the session.\n",
    "k = None\n",
    "d = None\n",
    "print('None:', k is d)\n",
    "\n",
    "k = True\n",
    "d = True\n",
    "print('True:', k is d)\n",
    "\n",
    "k = False\n",
    "d = False\n",
    "print('False:', k is d)"
   ]
  },
  {
   "cell_type": "markdown",
   "metadata": {
    "id": "E5ZQR9fKh4U7"
   },
   "source": [
    "#### Identifiers"
   ]
  },
  {
   "cell_type": "markdown",
   "metadata": {
    "id": "fbvWobgpiFap"
   },
   "source": [
    "##### Questions\n",
    "1. T/F using 'type' as an identifier will give an error.\n",
    "2. T/F using 'import' as an identifier will give you an error.\n",
    "3. T/F 'names' and 'nameS' are the same identifiers."
   ]
  },
  {
   "cell_type": "markdown",
   "metadata": {
    "id": "7aCFPF4qooVm"
   },
   "source": [
    "##### Answers"
   ]
  },
  {
   "cell_type": "markdown",
   "metadata": {
    "id": "_Ceq9CLaoq13"
   },
   "source": [
    "Although identifier 'type' will not give you an error, it is not recommended to use Python functions as identifiers as you will encounter issues later in your code if you try to call the same function. In Jupyter Notebooks when you write a Python built-in function it becomes green.\n",
    "\n",
    "Identifiers in Python are case-sensitive (e.g. ab and Ab are different identifiers). Identifiers can be composed of almost any combination of letters, numerals, and underscore characters (Au5, ba, df_A, fg2_, etc.). The primary restrictions are that an identifier cannot begin with a numeral (you cannot use as identifiers 12, 1a, 99c, etc.), and that there are 33 specially reserved words that cannot be used as identifiers.\n",
    "\n",
    "**Reserved words**\n",
    "\n",
    "| ---- | ----| ---- |---|---|---|--- |---|\n",
    "|---|--- |---|---| --| ----| ---| ---|\n",
    "|False|  as |continue| else| from| in| not| return| \n",
    "|None |assert| def |except| global| is| or| try|\n",
    "|True| break |del |finally |if |lambda |pass |while|\n",
    "|and| class |elif |for| import| nonlocal |raise |with|\n",
    "|yield|"
   ]
  },
  {
   "cell_type": "code",
   "execution_count": null,
   "metadata": {
    "id": "SaeGwFeZBuuX"
   },
   "outputs": [],
   "source": [
    "My_name = \"Poghos\"\n",
    "my_name = 'Petros'"
   ]
  },
  {
   "cell_type": "markdown",
   "metadata": {
    "id": "kArjgiDfuSdN"
   },
   "source": [
    "#### Alias\n"
   ]
  },
  {
   "cell_type": "markdown",
   "metadata": {
    "id": "THrC_f7rpspR"
   },
   "source": [
    "##### Exercise"
   ]
  },
  {
   "cell_type": "markdown",
   "metadata": {
    "id": "-a3I29SFpzPR"
   },
   "source": [
    "You have the following object: name='Hermine'. You alias 'name' to 'first_name'. Then you assign 'Mark' to 'first_name'. What will happen with the object 'name'?"
   ]
  },
  {
   "cell_type": "markdown",
   "metadata": {
    "id": "0pyR3WZ0pjyU"
   },
   "source": [
    "###### Answer"
   ]
  },
  {
   "cell_type": "code",
   "execution_count": null,
   "metadata": {
    "colab": {
     "base_uri": "https://localhost:8080/"
    },
    "executionInfo": {
     "elapsed": 695,
     "status": "ok",
     "timestamp": 1611939106588,
     "user": {
      "displayName": "Hermine Grigoryan",
      "photoUrl": "https://lh3.googleusercontent.com/a-/AOh14GjLwIo-2VVUykQLxY5cizSa0c6YxyRviiU_gbgszA=s64",
      "userId": "06963124555133391589"
     },
     "user_tz": -240
    },
    "id": "dg6zJU28uxbn",
    "outputId": "688a80ea-4734-485c-ff1e-11188b95e85b"
   },
   "outputs": [
    {
     "name": "stdout",
     "output_type": "stream",
     "text": [
      "name:  Hermine\n",
      "first_name:  Hermine\n",
      "name:  Hermine\n",
      "name:  Hermine\n",
      "first_name:  Mark\n"
     ]
    }
   ],
   "source": [
    "name = 'Hermine'\n",
    "print('name: ', name)\n",
    "first_name = name\n",
    "print('first_name: ', first_name)\n",
    "print('name: ', name)\n",
    "first_name = 'Mark'\n",
    "print('name: ', name)\n",
    "print('first_name: ', first_name)"
   ]
  },
  {
   "cell_type": "markdown",
   "metadata": {
    "id": "pnkBkFtLUcce"
   },
   "source": [
    "### 2. Built-in Data Types"
   ]
  },
  {
   "cell_type": "markdown",
   "metadata": {
    "id": "WXQe-gJ6MjTq"
   },
   "source": [
    "1. Which of the following are immutable?\n",
    "* bool\n",
    "* list\n",
    "* tuple\n",
    "* dict\n",
    "* set"
   ]
  },
  {
   "cell_type": "markdown",
   "metadata": {
    "id": "EDOa4ZJF3MQE"
   },
   "source": [
    "A class is immutable if each object of that class has a fixed value upon instantiation that cannot subsequently be changed. For example. Once an instance has been created, its value cannot be changed."
   ]
  },
  {
   "cell_type": "markdown",
   "metadata": {
    "id": "d9a4ipC83Uo4"
   },
   "source": [
    "| Class | Description | Immutable |\n",
    "| :------:|:------:|:--------:|\n",
    "| bool | Boolean value | +|\n",
    "| None | the absence of value| + |\n",
    "| int | integer (arbitrary magnitude)| + |\n",
    "| float | floating-point number | + |\n",
    "| list | mutable sequence of objects |  |\n",
    "| tuple | immutable sequence of objects | + |\n",
    "| str | character string | + |\n",
    "| set | unordered set of distinct objects |  |\n",
    "| frozentset | immutable form of set class | +|\n",
    "|  dict | associative mapping (aka dictionary) |  |"
   ]
  },
  {
   "cell_type": "markdown",
   "metadata": {
    "id": "TBRc9HDYM_Fb"
   },
   "source": [
    "2. Check the type of the following objects using two different approaches (type, isinstance):\n",
    "* 'Data Science'\n",
    "* 78.5\n",
    "* 9\n",
    "* '100'\n",
    "* None"
   ]
  },
  {
   "cell_type": "code",
   "execution_count": null,
   "metadata": {
    "colab": {
     "base_uri": "https://localhost:8080/"
    },
    "executionInfo": {
     "elapsed": 681,
     "status": "ok",
     "timestamp": 1611852073179,
     "user": {
      "displayName": "Hermine Grigoryan",
      "photoUrl": "https://lh3.googleusercontent.com/a-/AOh14GjLwIo-2VVUykQLxY5cizSa0c6YxyRviiU_gbgszA=s64",
      "userId": "06963124555133391589"
     },
     "user_tz": -240
    },
    "id": "T2nKBk-d3jhg",
    "outputId": "ffc67651-ee55-4568-8ffe-3bc1db3b5ee2"
   },
   "outputs": [
    {
     "name": "stdout",
     "output_type": "stream",
     "text": [
      "True\n",
      "True\n"
     ]
    }
   ],
   "source": [
    "print(type('Data Science') == str)\n",
    "print(isinstance('Data Science', str))"
   ]
  },
  {
   "cell_type": "markdown",
   "metadata": {
    "id": "2tEV9-iRbsx-"
   },
   "source": [
    "3. What will be the boolean value of 78/'klm'/1/0/[None]/[0]?"
   ]
  },
  {
   "cell_type": "code",
   "execution_count": null,
   "metadata": {
    "colab": {
     "base_uri": "https://localhost:8080/"
    },
    "executionInfo": {
     "elapsed": 1046,
     "status": "ok",
     "timestamp": 1611939629931,
     "user": {
      "displayName": "Hermine Grigoryan",
      "photoUrl": "https://lh3.googleusercontent.com/a-/AOh14GjLwIo-2VVUykQLxY5cizSa0c6YxyRviiU_gbgszA=s64",
      "userId": "06963124555133391589"
     },
     "user_tz": -240
    },
    "id": "zgiPoYfK21L_",
    "outputId": "41f00645-70c9-4ba1-967e-d17aba6d520c"
   },
   "outputs": [
    {
     "name": "stdout",
     "output_type": "stream",
     "text": [
      "False\n",
      "False\n",
      "True\n",
      "True\n"
     ]
    }
   ],
   "source": [
    "print(bool([]))\n",
    "print(bool(None))\n",
    "print(bool([None]))\n",
    "print(bool([0]))"
   ]
  },
  {
   "cell_type": "markdown",
   "metadata": {
    "id": "KSvs95Zy33sZ"
   },
   "source": [
    "**False** - 0, 0.0,\"\", [], {}, (), None\n",
    "\n",
    "**True** - all other values"
   ]
  },
  {
   "cell_type": "markdown",
   "metadata": {
    "id": "kPQCtIIoUcck"
   },
   "source": [
    "4. Compare whether 0.3+0.3+0.3 is equal to 0.9 and explain why you get such a result.\n",
    "Use *round()* function to get equal identities."
   ]
  },
  {
   "cell_type": "code",
   "execution_count": null,
   "metadata": {
    "colab": {
     "base_uri": "https://localhost:8080/"
    },
    "executionInfo": {
     "elapsed": 1175,
     "status": "ok",
     "timestamp": 1611939850342,
     "user": {
      "displayName": "Hermine Grigoryan",
      "photoUrl": "https://lh3.googleusercontent.com/a-/AOh14GjLwIo-2VVUykQLxY5cizSa0c6YxyRviiU_gbgszA=s64",
      "userId": "06963124555133391589"
     },
     "user_tz": -240
    },
    "id": "eIUzBg9K6E2S",
    "outputId": "87be5bc3-2663-4447-edb9-cf9364bdcef7"
   },
   "outputs": [
    {
     "data": {
      "text/plain": [
       "True"
      ]
     },
     "execution_count": 37,
     "metadata": {
      "tags": []
     },
     "output_type": "execute_result"
    }
   ],
   "source": [
    "round(0.3+0.3+0.3, 1) == 0.9"
   ]
  },
  {
   "cell_type": "markdown",
   "metadata": {
    "id": "1rA1Ny5P6ENg"
   },
   "source": [
    "5. Using *math* module, perform the following operations with the variable **a**: ceiling, floor (how do they differ from round()?), log, sqrt.\n",
    "\n",
    "a = 10.3"
   ]
  },
  {
   "cell_type": "code",
   "execution_count": null,
   "metadata": {
    "colab": {
     "base_uri": "https://localhost:8080/"
    },
    "executionInfo": {
     "elapsed": 698,
     "status": "ok",
     "timestamp": 1611940048605,
     "user": {
      "displayName": "Hermine Grigoryan",
      "photoUrl": "https://lh3.googleusercontent.com/a-/AOh14GjLwIo-2VVUykQLxY5cizSa0c6YxyRviiU_gbgszA=s64",
      "userId": "06963124555133391589"
     },
     "user_tz": -240
    },
    "id": "1xveVDdp6Z_C",
    "outputId": "e24f2228-3108-4174-f66d-5443b2d23985"
   },
   "outputs": [
    {
     "name": "stdout",
     "output_type": "stream",
     "text": [
      "11\n",
      "10\n",
      "10\n",
      "1.012837224705172\n",
      "3.2093613071762426\n"
     ]
    }
   ],
   "source": [
    "import math\n",
    "a = 10.3\n",
    "print(math.ceil(a))\n",
    "print(math.floor(a))\n",
    "print(round(a))\n",
    "print(math.log(a, 10))\n",
    "print(math.sqrt(a))"
   ]
  },
  {
   "cell_type": "markdown",
   "metadata": {
    "id": "Ns1dgIBb8Egs"
   },
   "source": [
    "6. Generate 3 random integers between 100 and 999 which is divisible by 5"
   ]
  },
  {
   "cell_type": "code",
   "execution_count": 3,
   "metadata": {
    "colab": {
     "base_uri": "https://localhost:8080/"
    },
    "executionInfo": {
     "elapsed": 855,
     "status": "ok",
     "timestamp": 1612008155933,
     "user": {
      "displayName": "Hermine Grigoryan",
      "photoUrl": "https://lh3.googleusercontent.com/a-/AOh14GjLwIo-2VVUykQLxY5cizSa0c6YxyRviiU_gbgszA=s64",
      "userId": "06963124555133391589"
     },
     "user_tz": -240
    },
    "id": "Dg5w0hxR91ZC",
    "outputId": "a2c13051-9edc-4f07-8a85-6331e1a965eb"
   },
   "outputs": [
    {
     "name": "stdout",
     "output_type": "stream",
     "text": [
      "0.32383276483316237\n",
      "30\n",
      "45.534114678085615\n"
     ]
    }
   ],
   "source": [
    "import random\n",
    "random.seed(7)\n",
    "print(random.random()) #[0.0, 1.0) #floats\n",
    "print(random.randrange(10, 100, 10)) #range(start, stop, step) #integers # stop would be excluded from the range\n",
    "print(random.uniform(10, 100)) #(a, b) #floats+integers in a specified range"
   ]
  },
  {
   "cell_type": "code",
   "execution_count": null,
   "metadata": {
    "colab": {
     "base_uri": "https://localhost:8080/"
    },
    "executionInfo": {
     "elapsed": 661,
     "status": "ok",
     "timestamp": 1611854184272,
     "user": {
      "displayName": "Hermine Grigoryan",
      "photoUrl": "https://lh3.googleusercontent.com/a-/AOh14GjLwIo-2VVUykQLxY5cizSa0c6YxyRviiU_gbgszA=s64",
      "userId": "06963124555133391589"
     },
     "user_tz": -240
    },
    "id": "oOZR4pCz_GTI",
    "outputId": "9da5ba0b-770d-4a19-a949-2304ed1bd80d"
   },
   "outputs": [
    {
     "name": "stdout",
     "output_type": "stream",
     "text": [
      "510 290 605\n"
     ]
    }
   ],
   "source": [
    "random.seed(7)\n",
    "print(random.randrange(100, 999, 5), random.randrange(100, 999, 5), random.randrange(100, 999, 5))"
   ]
  },
  {
   "cell_type": "markdown",
   "metadata": {
    "id": "KKpiSzdUUccl"
   },
   "source": [
    "### 3. Expressions, Operators, and Precedence "
   ]
  },
  {
   "cell_type": "code",
   "execution_count": null,
   "metadata": {
    "colab": {
     "base_uri": "https://localhost:8080/",
     "height": 35
    },
    "executionInfo": {
     "elapsed": 1062,
     "status": "ok",
     "timestamp": 1611940494326,
     "user": {
      "displayName": "Hermine Grigoryan",
      "photoUrl": "https://lh3.googleusercontent.com/a-/AOh14GjLwIo-2VVUykQLxY5cizSa0c6YxyRviiU_gbgszA=s64",
      "userId": "06963124555133391589"
     },
     "user_tz": -240
    },
    "id": "LS2OagiCNihi",
    "outputId": "179b5412-03f3-4e42-b7aa-4c1c3f034083"
   },
   "outputs": [
    {
     "data": {
      "application/vnd.google.colaboratory.intrinsic+json": {
       "type": "string"
      },
      "text/plain": [
       "'22'"
      ]
     },
     "execution_count": 69,
     "metadata": {
      "tags": []
     },
     "output_type": "execute_result"
    }
   ],
   "source": [
    "a = '2'\n",
    "a+a"
   ]
  },
  {
   "cell_type": "code",
   "execution_count": null,
   "metadata": {
    "colab": {
     "base_uri": "https://localhost:8080/"
    },
    "executionInfo": {
     "elapsed": 671,
     "status": "ok",
     "timestamp": 1611940508893,
     "user": {
      "displayName": "Hermine Grigoryan",
      "photoUrl": "https://lh3.googleusercontent.com/a-/AOh14GjLwIo-2VVUykQLxY5cizSa0c6YxyRviiU_gbgszA=s64",
      "userId": "06963124555133391589"
     },
     "user_tz": -240
    },
    "id": "CrSMcpA9JA9M",
    "outputId": "3b09a8fc-7b7d-44c3-f88b-1103497f171f"
   },
   "outputs": [
    {
     "data": {
      "text/plain": [
       "4"
      ]
     },
     "execution_count": 70,
     "metadata": {
      "tags": []
     },
     "output_type": "execute_result"
    }
   ],
   "source": [
    "b = 2\n",
    "b+b"
   ]
  },
  {
   "cell_type": "markdown",
   "metadata": {
    "id": "zWldr7qxSZnx"
   },
   "source": [
    "#### Logical operators"
   ]
  },
  {
   "cell_type": "code",
   "execution_count": null,
   "metadata": {
    "colab": {
     "base_uri": "https://localhost:8080/"
    },
    "executionInfo": {
     "elapsed": 678,
     "status": "ok",
     "timestamp": 1611940569034,
     "user": {
      "displayName": "Hermine Grigoryan",
      "photoUrl": "https://lh3.googleusercontent.com/a-/AOh14GjLwIo-2VVUykQLxY5cizSa0c6YxyRviiU_gbgszA=s64",
      "userId": "06963124555133391589"
     },
     "user_tz": -240
    },
    "id": "62-HPj6ESWkG",
    "outputId": "5845df2a-c057-45b7-e6d8-3c2716c119a0"
   },
   "outputs": [
    {
     "name": "stdout",
     "output_type": "stream",
     "text": [
      "False\n",
      "False\n",
      "True\n",
      "\n",
      "\n",
      "True\n",
      "True\n",
      "False\n"
     ]
    }
   ],
   "source": [
    "print(True and False)\n",
    "print(False and False)\n",
    "print(True and True)\n",
    "print('\\n')\n",
    "print(True or False)\n",
    "print(True or True)\n",
    "print(False or False)"
   ]
  },
  {
   "cell_type": "markdown",
   "metadata": {
    "id": "u6GVcCopJcHa"
   },
   "source": [
    "###### **and** operator"
   ]
  },
  {
   "cell_type": "code",
   "execution_count": null,
   "metadata": {
    "colab": {
     "base_uri": "https://localhost:8080/"
    },
    "executionInfo": {
     "elapsed": 715,
     "status": "ok",
     "timestamp": 1611940660767,
     "user": {
      "displayName": "Hermine Grigoryan",
      "photoUrl": "https://lh3.googleusercontent.com/a-/AOh14GjLwIo-2VVUykQLxY5cizSa0c6YxyRviiU_gbgszA=s64",
      "userId": "06963124555133391589"
     },
     "user_tz": -240
    },
    "id": "7jrFSAFaGQ_Z",
    "outputId": "207a45a8-ecb7-43ff-aa44-071c12140529"
   },
   "outputs": [
    {
     "data": {
      "text/plain": [
       "-10"
      ]
     },
     "execution_count": 72,
     "metadata": {
      "tags": []
     },
     "output_type": "execute_result"
    }
   ],
   "source": [
    "# Outputs last True if all are True\n",
    "a = 10\n",
    "b = 10\n",
    "c = -10\n",
    "\n",
    "a and b and c"
   ]
  },
  {
   "cell_type": "code",
   "execution_count": null,
   "metadata": {
    "colab": {
     "base_uri": "https://localhost:8080/"
    },
    "executionInfo": {
     "elapsed": 653,
     "status": "ok",
     "timestamp": 1611907072298,
     "user": {
      "displayName": "Hermine Grigoryan",
      "photoUrl": "https://lh3.googleusercontent.com/a-/AOh14GjLwIo-2VVUykQLxY5cizSa0c6YxyRviiU_gbgszA=s64",
      "userId": "06963124555133391589"
     },
     "user_tz": -240
    },
    "id": "PV_YBFaHGhUQ",
    "outputId": "db0f86fb-7290-4c08-8693-4556bf385be8"
   },
   "outputs": [
    {
     "data": {
      "text/plain": [
       "0"
      ]
     },
     "execution_count": 15,
     "metadata": {
      "tags": []
     },
     "output_type": "execute_result"
    }
   ],
   "source": [
    "# Outputs first False if there is a False\n",
    "a = 10\n",
    "b = 0\n",
    "c = -10\n",
    "\n",
    "a and b and c"
   ]
  },
  {
   "cell_type": "code",
   "execution_count": null,
   "metadata": {
    "colab": {
     "base_uri": "https://localhost:8080/"
    },
    "executionInfo": {
     "elapsed": 695,
     "status": "ok",
     "timestamp": 1611907072671,
     "user": {
      "displayName": "Hermine Grigoryan",
      "photoUrl": "https://lh3.googleusercontent.com/a-/AOh14GjLwIo-2VVUykQLxY5cizSa0c6YxyRviiU_gbgszA=s64",
      "userId": "06963124555133391589"
     },
     "user_tz": -240
    },
    "id": "WUIeCkBqG0Gr",
    "outputId": "2a699018-3bf8-45c9-b547-07338e9dfe29"
   },
   "outputs": [
    {
     "data": {
      "text/plain": [
       "{}"
      ]
     },
     "execution_count": 16,
     "metadata": {
      "tags": []
     },
     "output_type": "execute_result"
    }
   ],
   "source": [
    "# Outputs first False if there is a False\n",
    "a = {}\n",
    "b = 'abc'\n",
    "c = 0\n",
    "\n",
    "a and b and c"
   ]
  },
  {
   "cell_type": "markdown",
   "metadata": {
    "id": "AcmHJpjXHNPi"
   },
   "source": [
    "If the first operand is False, it is enough for **and** operator to output False. If the first operand is not False, then the next operands are checked. It outputs first False if there is a False. If all of the operand are True, then the last True operand is returned."
   ]
  },
  {
   "cell_type": "markdown",
   "metadata": {
    "id": "QEaIhh-PJiVY"
   },
   "source": [
    "##### **or** operator"
   ]
  },
  {
   "cell_type": "code",
   "execution_count": null,
   "metadata": {
    "colab": {
     "base_uri": "https://localhost:8080/"
    },
    "executionInfo": {
     "elapsed": 674,
     "status": "ok",
     "timestamp": 1611907133487,
     "user": {
      "displayName": "Hermine Grigoryan",
      "photoUrl": "https://lh3.googleusercontent.com/a-/AOh14GjLwIo-2VVUykQLxY5cizSa0c6YxyRviiU_gbgszA=s64",
      "userId": "06963124555133391589"
     },
     "user_tz": -240
    },
    "id": "-Qh-kNq_JqSf",
    "outputId": "abc342c7-10c6-44ed-c141-37283b37847a"
   },
   "outputs": [
    {
     "data": {
      "text/plain": [
       "10"
      ]
     },
     "execution_count": 17,
     "metadata": {
      "tags": []
     },
     "output_type": "execute_result"
    }
   ],
   "source": [
    "# Outputs the first True value\n",
    "a = 10\n",
    "b = 10\n",
    "c = -10\n",
    "\n",
    "a or b or c"
   ]
  },
  {
   "cell_type": "code",
   "execution_count": null,
   "metadata": {
    "colab": {
     "base_uri": "https://localhost:8080/"
    },
    "executionInfo": {
     "elapsed": 657,
     "status": "ok",
     "timestamp": 1611907170032,
     "user": {
      "displayName": "Hermine Grigoryan",
      "photoUrl": "https://lh3.googleusercontent.com/a-/AOh14GjLwIo-2VVUykQLxY5cizSa0c6YxyRviiU_gbgszA=s64",
      "userId": "06963124555133391589"
     },
     "user_tz": -240
    },
    "id": "fNdOuO0WJ1jv",
    "outputId": "bf37b9b6-4cc1-47f3-c4f0-12587f17f5b4"
   },
   "outputs": [
    {
     "data": {
      "text/plain": [
       "-10"
      ]
     },
     "execution_count": 18,
     "metadata": {
      "tags": []
     },
     "output_type": "execute_result"
    }
   ],
   "source": [
    "# Outputs the first True value\n",
    "a = 0\n",
    "b = 0\n",
    "c = -10\n",
    "\n",
    "a or b or c"
   ]
  },
  {
   "cell_type": "code",
   "execution_count": null,
   "metadata": {
    "colab": {
     "base_uri": "https://localhost:8080/"
    },
    "executionInfo": {
     "elapsed": 698,
     "status": "ok",
     "timestamp": 1611907609055,
     "user": {
      "displayName": "Hermine Grigoryan",
      "photoUrl": "https://lh3.googleusercontent.com/a-/AOh14GjLwIo-2VVUykQLxY5cizSa0c6YxyRviiU_gbgszA=s64",
      "userId": "06963124555133391589"
     },
     "user_tz": -240
    },
    "id": "Wxnae576La_t",
    "outputId": "4ce82ddc-5b24-4c33-f3af-fe60044d7026"
   },
   "outputs": [
    {
     "data": {
      "text/plain": [
       "[]"
      ]
     },
     "execution_count": 19,
     "metadata": {
      "tags": []
     },
     "output_type": "execute_result"
    }
   ],
   "source": [
    "# If all operands are False, outputs the last False operand\n",
    "a = \"\"\n",
    "b = None\n",
    "c = []\n",
    "\n",
    "a or b or c"
   ]
  },
  {
   "cell_type": "code",
   "execution_count": null,
   "metadata": {
    "colab": {
     "base_uri": "https://localhost:8080/"
    },
    "executionInfo": {
     "elapsed": 586,
     "status": "ok",
     "timestamp": 1611907669993,
     "user": {
      "displayName": "Hermine Grigoryan",
      "photoUrl": "https://lh3.googleusercontent.com/a-/AOh14GjLwIo-2VVUykQLxY5cizSa0c6YxyRviiU_gbgszA=s64",
      "userId": "06963124555133391589"
     },
     "user_tz": -240
    },
    "id": "YRuY0yk7Lr4Q",
    "outputId": "bc10c912-b458-44ce-f425-bb40b6a89adc"
   },
   "outputs": [
    {
     "data": {
      "text/plain": [
       "5"
      ]
     },
     "execution_count": 20,
     "metadata": {
      "tags": []
     },
     "output_type": "execute_result"
    }
   ],
   "source": [
    "5 or this_var_doesnt_exist or 7 #only checks the first (and because it is True, it does not go to the next operands) and outputs the first True"
   ]
  },
  {
   "cell_type": "code",
   "execution_count": null,
   "metadata": {
    "colab": {
     "base_uri": "https://localhost:8080/",
     "height": 166
    },
    "executionInfo": {
     "elapsed": 743,
     "status": "error",
     "timestamp": 1611907694741,
     "user": {
      "displayName": "Hermine Grigoryan",
      "photoUrl": "https://lh3.googleusercontent.com/a-/AOh14GjLwIo-2VVUykQLxY5cizSa0c6YxyRviiU_gbgszA=s64",
      "userId": "06963124555133391589"
     },
     "user_tz": -240
    },
    "id": "R4qaFByfL0eT",
    "outputId": "9d33b235-8a0a-459e-9f4f-395f1f6ae359"
   },
   "outputs": [
    {
     "ename": "NameError",
     "evalue": "ignored",
     "output_type": "error",
     "traceback": [
      "\u001b[0;31m---------------------------------------------------------------------------\u001b[0m",
      "\u001b[0;31mNameError\u001b[0m                                 Traceback (most recent call last)",
      "\u001b[0;32m<ipython-input-21-18b87223938f>\u001b[0m in \u001b[0;36m<module>\u001b[0;34m()\u001b[0m\n\u001b[0;32m----> 1\u001b[0;31m \u001b[0;36m5\u001b[0m \u001b[0;32mand\u001b[0m \u001b[0mthis_var_doesnt_exist\u001b[0m \u001b[0;32mand\u001b[0m \u001b[0;36m7\u001b[0m\u001b[0;34m\u001b[0m\u001b[0;34m\u001b[0m\u001b[0m\n\u001b[0m",
      "\u001b[0;31mNameError\u001b[0m: name 'this_var_doesnt_exist' is not defined"
     ]
    }
   ],
   "source": [
    "5 and this_var_doesnt_exist and 7 #as the first operand is True, 'and' should check the next ones"
   ]
  },
  {
   "cell_type": "code",
   "execution_count": null,
   "metadata": {
    "colab": {
     "base_uri": "https://localhost:8080/"
    },
    "executionInfo": {
     "elapsed": 790,
     "status": "ok",
     "timestamp": 1611907717331,
     "user": {
      "displayName": "Hermine Grigoryan",
      "photoUrl": "https://lh3.googleusercontent.com/a-/AOh14GjLwIo-2VVUykQLxY5cizSa0c6YxyRviiU_gbgszA=s64",
      "userId": "06963124555133391589"
     },
     "user_tz": -240
    },
    "id": "dyGKPtvvL8Ps",
    "outputId": "0a1a5e36-7a5e-467e-abb3-1251218c66a5"
   },
   "outputs": [
    {
     "data": {
      "text/plain": [
       "0"
      ]
     },
     "execution_count": 22,
     "metadata": {
      "tags": []
     },
     "output_type": "execute_result"
    }
   ],
   "source": [
    "0 and this_var_doesnt_exist and 7 #as the first operand is False, 'and' doesn't go to the next operands"
   ]
  },
  {
   "cell_type": "markdown",
   "metadata": {
    "id": "VTsGAGO7MtJM"
   },
   "source": [
    "##### *not* operator - negation operator"
   ]
  },
  {
   "cell_type": "code",
   "execution_count": null,
   "metadata": {
    "colab": {
     "base_uri": "https://localhost:8080/"
    },
    "executionInfo": {
     "elapsed": 702,
     "status": "ok",
     "timestamp": 1611941224361,
     "user": {
      "displayName": "Hermine Grigoryan",
      "photoUrl": "https://lh3.googleusercontent.com/a-/AOh14GjLwIo-2VVUykQLxY5cizSa0c6YxyRviiU_gbgszA=s64",
      "userId": "06963124555133391589"
     },
     "user_tz": -240
    },
    "id": "rmzt1P-jMlQ6",
    "outputId": "10c9c606-de65-45ef-f938-4010e27767b1"
   },
   "outputs": [
    {
     "name": "stdout",
     "output_type": "stream",
     "text": [
      "False\n",
      "0\n",
      "False\n",
      "True\n"
     ]
    }
   ],
   "source": [
    "a = 5\n",
    "print(not a)\n",
    "print(not a or 0) #outputs the last False operand\n",
    "print(not a and 0) #outputs the first False operand\n",
    "print(9 and not 0)"
   ]
  },
  {
   "cell_type": "markdown",
   "metadata": {
    "id": "smCls4daNb-O"
   },
   "source": [
    "#### Identity and equality operators"
   ]
  },
  {
   "cell_type": "code",
   "execution_count": 1,
   "metadata": {
    "id": "lUR-CbnnOa2c"
   },
   "outputs": [
    {
     "name": "stdout",
     "output_type": "stream",
     "text": [
      "False\n",
      "True\n"
     ]
    }
   ],
   "source": [
    "a = 265\n",
    "b = 265\n",
    "\n",
    "print(a is b)\n",
    "print(a == b)"
   ]
  },
  {
   "cell_type": "markdown",
   "metadata": {
    "id": "RguiivxXRlTq"
   },
   "source": [
    "#### Comparison operators"
   ]
  },
  {
   "cell_type": "markdown",
   "metadata": {
    "id": "Ph6c8jJRRo01"
   },
   "source": [
    "For strings they are defined lexicographically (compares each corresponding pair of characters from left to right until first inequality) and case-sensitively (e.g. \"a\" and \"A\" are different). An exception is raised if operands have incomparable types, as with 5 < hello.\n",
    "\n",
    "Python’s built-in function **chr()** is used for converting an Integer to a Character, while the function **ord()** is used to do the reverse, i.e, convert a Character to an Integer."
   ]
  },
  {
   "cell_type": "code",
   "execution_count": null,
   "metadata": {
    "colab": {
     "base_uri": "https://localhost:8080/"
    },
    "executionInfo": {
     "elapsed": 687,
     "status": "ok",
     "timestamp": 1611909659628,
     "user": {
      "displayName": "Hermine Grigoryan",
      "photoUrl": "https://lh3.googleusercontent.com/a-/AOh14GjLwIo-2VVUykQLxY5cizSa0c6YxyRviiU_gbgszA=s64",
      "userId": "06963124555133391589"
     },
     "user_tz": -240
    },
    "id": "F3EGed7aSlII",
    "outputId": "3655d74c-5626-4037-f52f-99f301697ba8"
   },
   "outputs": [
    {
     "name": "stdout",
     "output_type": "stream",
     "text": [
      "104 72\n",
      "49 53\n",
      "--------\n",
      "- A\n",
      ". 46\n"
     ]
    }
   ],
   "source": [
    "print(ord('h'), ord('H'))\n",
    "print(ord('1'), ord('5'))\n",
    "# print(ord(1), ord(1)) will raise an error\n",
    "print('--------')\n",
    "print(chr(45), chr(65))\n",
    "print(chr(46), ord(\".\"))"
   ]
  },
  {
   "cell_type": "code",
   "execution_count": 2,
   "metadata": {
    "id": "awwFwjNATbMP"
   },
   "outputs": [
    {
     "name": "stdout",
     "output_type": "stream",
     "text": [
      "True\n",
      "97 101\n"
     ]
    }
   ],
   "source": [
    "print('Harry Potter' < 'Hermione Granger')\n",
    "print(ord('a'), ord('e'))"
   ]
  },
  {
   "cell_type": "markdown",
   "metadata": {
    "id": "r2IWms3Pc7EQ"
   },
   "source": [
    "1. Explain the difference between **/** and **//**."
   ]
  },
  {
   "cell_type": "code",
   "execution_count": null,
   "metadata": {
    "colab": {
     "base_uri": "https://localhost:8080/"
    },
    "executionInfo": {
     "elapsed": 816,
     "status": "ok",
     "timestamp": 1611941783847,
     "user": {
      "displayName": "Hermine Grigoryan",
      "photoUrl": "https://lh3.googleusercontent.com/a-/AOh14GjLwIo-2VVUykQLxY5cizSa0c6YxyRviiU_gbgszA=s64",
      "userId": "06963124555133391589"
     },
     "user_tz": -240
    },
    "id": "8E736zKpNq-p",
    "outputId": "47d4c3f7-7d80-46ad-e585-8c615edad3cb"
   },
   "outputs": [
    {
     "data": {
      "text/plain": [
       "3"
      ]
     },
     "execution_count": 85,
     "metadata": {
      "tags": []
     },
     "output_type": "execute_result"
    }
   ],
   "source": [
    "11//3"
   ]
  },
  {
   "cell_type": "markdown",
   "metadata": {
    "id": "tAmzHscNdJeF"
   },
   "source": [
    "2. Which of the following assignment operators make sense? Write the equivalent operators.\n",
    "* *=\n",
    "* /*\n",
    "* (=\n",
    "* +=\n",
    "* %="
   ]
  },
  {
   "cell_type": "markdown",
   "metadata": {
    "id": "7V89xblrdzbt"
   },
   "source": [
    "3. Which of these are correct representations of binary numbers in Python?\n",
    "* 1b1001\n",
    "* 0b1001\n",
    "* -0b001\n",
    "* 1b0000101\n",
    "* -0b000101"
   ]
  },
  {
   "cell_type": "markdown",
   "metadata": {
    "id": "QpWTXbTrfH5K"
   },
   "source": [
    "4. Left shift operator "
   ]
  },
  {
   "cell_type": "markdown",
   "metadata": {
    "id": "kMfOyM1pe-Z9"
   },
   "source": [
    "![SegmentLocal](https://files.realpython.com/media/lshift.e06f1509d89f.gif \"segment\")"
   ]
  },
  {
   "cell_type": "code",
   "execution_count": null,
   "metadata": {
    "colab": {
     "base_uri": "https://localhost:8080/"
    },
    "executionInfo": {
     "elapsed": 850,
     "status": "ok",
     "timestamp": 1611942302300,
     "user": {
      "displayName": "Hermine Grigoryan",
      "photoUrl": "https://lh3.googleusercontent.com/a-/AOh14GjLwIo-2VVUykQLxY5cizSa0c6YxyRviiU_gbgszA=s64",
      "userId": "06963124555133391589"
     },
     "user_tz": -240
    },
    "id": "rK2NmRppaED6",
    "outputId": "b9a82fea-d6fa-4ba6-afaa-b63ac5ad750d"
   },
   "outputs": [
    {
     "name": "stdout",
     "output_type": "stream",
     "text": [
      "0b1\n",
      "4 0b100\n"
     ]
    }
   ],
   "source": [
    "print(bin(1))\n",
    "print(1 << 2, bin(1 << 2))"
   ]
  },
  {
   "cell_type": "code",
   "execution_count": null,
   "metadata": {
    "colab": {
     "base_uri": "https://localhost:8080/"
    },
    "executionInfo": {
     "elapsed": 701,
     "status": "ok",
     "timestamp": 1611942425179,
     "user": {
      "displayName": "Hermine Grigoryan",
      "photoUrl": "https://lh3.googleusercontent.com/a-/AOh14GjLwIo-2VVUykQLxY5cizSa0c6YxyRviiU_gbgszA=s64",
      "userId": "06963124555133391589"
     },
     "user_tz": -240
    },
    "id": "MhBidUW4QDe1",
    "outputId": "a3238d1b-c438-4703-8def-0e3ac15003f0"
   },
   "outputs": [
    {
     "name": "stdout",
     "output_type": "stream",
     "text": [
      "0b1011\n",
      "2 0b10\n"
     ]
    }
   ],
   "source": [
    "print(bin(11))\n",
    "print(11 >> 2, bin(11 >> 2))"
   ]
  },
  {
   "cell_type": "markdown",
   "metadata": {
    "id": "wfOkR3BDfprY"
   },
   "source": [
    "Shift the variable *shift_right* to the right twice (>> 2) and shift the variable *shift_left* to the left twice (<< 2)."
   ]
  },
  {
   "cell_type": "code",
   "execution_count": null,
   "metadata": {
    "colab": {
     "base_uri": "https://localhost:8080/"
    },
    "executionInfo": {
     "elapsed": 780,
     "status": "ok",
     "timestamp": 1611942513446,
     "user": {
      "displayName": "Hermine Grigoryan",
      "photoUrl": "https://lh3.googleusercontent.com/a-/AOh14GjLwIo-2VVUykQLxY5cizSa0c6YxyRviiU_gbgszA=s64",
      "userId": "06963124555133391589"
     },
     "user_tz": -240
    },
    "id": "di22DUjxQfdr",
    "outputId": "178a2db7-fc3e-4f95-99e2-79016031e855"
   },
   "outputs": [
    {
     "name": "stdout",
     "output_type": "stream",
     "text": [
      "2\n",
      "16\n"
     ]
    }
   ],
   "source": [
    "shift_right = 10\n",
    "shift_left = 4\n",
    "\n",
    "print(shift_right >> 2)\n",
    "print(shift_left << 2)\n"
   ]
  },
  {
   "cell_type": "markdown",
   "metadata": {
    "id": "VeYg1ou7gWlW"
   },
   "source": [
    "5. What will be the output of \n",
    "* 256 and 200 (and their bool)\n",
    "* 256 & 200 (and their bool)"
   ]
  },
  {
   "cell_type": "code",
   "execution_count": 3,
   "metadata": {
    "id": "f4U0hu8-bKv6"
   },
   "outputs": [
    {
     "name": "stdout",
     "output_type": "stream",
     "text": [
      "0b100000000\n",
      "0b11001000\n"
     ]
    },
    {
     "data": {
      "text/plain": [
       "False"
      ]
     },
     "execution_count": 3,
     "metadata": {},
     "output_type": "execute_result"
    }
   ],
   "source": [
    "print(bin(256))\n",
    "print(bin(200))\n",
    "\n",
    "bool(256 & 200) == bool(256 and 200)"
   ]
  },
  {
   "cell_type": "markdown",
   "metadata": {
    "id": "XxprLG5Vp5i3"
   },
   "source": [
    "#### Multiple Assignments "
   ]
  },
  {
   "cell_type": "markdown",
   "metadata": {
    "id": "JEisE-os885K"
   },
   "source": [
    "##### Exercise"
   ]
  },
  {
   "cell_type": "markdown",
   "metadata": {
    "id": "trGBvTksLuMl"
   },
   "source": [
    "You have two numbers: one = 5, two = 10. Swap the values of these two numbers using bitwise XOR operator. Perform all the calculations in one line."
   ]
  },
  {
   "cell_type": "markdown",
   "metadata": {
    "id": "Q2INdn6Z-6pz"
   },
   "source": [
    "The name XOR stands for “exclusive or” since it performs exclusive disjunction on the bit pairs. In other words, every bit pair must contain opposing bit values to produce a one:"
   ]
  },
  {
   "cell_type": "markdown",
   "metadata": {
    "id": "GatALW9u97Yp"
   },
   "source": [
    "![SegmentLocal](https://files.realpython.com/media/xor.8c17776dd501.gif \"segment\")\n"
   ]
  },
  {
   "cell_type": "markdown",
   "metadata": {
    "id": "aZLk9mcIBq2c"
   },
   "source": [
    "<img src=https://media.geeksforgeeks.org/wp-content/uploads/20200302135623/Untitled-Diagram561.jpg width=\"500\">\n"
   ]
  },
  {
   "cell_type": "markdown",
   "metadata": {
    "id": "bm8QpK3uFVLv"
   },
   "source": [
    "###### Answer"
   ]
  },
  {
   "cell_type": "code",
   "execution_count": null,
   "metadata": {
    "colab": {
     "base_uri": "https://localhost:8080/"
    },
    "executionInfo": {
     "elapsed": 735,
     "status": "ok",
     "timestamp": 1611912110631,
     "user": {
      "displayName": "Hermine Grigoryan",
      "photoUrl": "https://lh3.googleusercontent.com/a-/AOh14GjLwIo-2VVUykQLxY5cizSa0c6YxyRviiU_gbgszA=s64",
      "userId": "06963124555133391589"
     },
     "user_tz": -240
    },
    "id": "gGXsfbXTFDAf",
    "outputId": "da9cd381-7ed8-48e2-f9e2-ee37bb7548ca"
   },
   "outputs": [
    {
     "name": "stdout",
     "output_type": "stream",
     "text": [
      "bin of 5: 0b101\n",
      "bin of 10: 0b1010\n",
      "bin of 15 0b1111\n"
     ]
    }
   ],
   "source": [
    "one = 5; print('bin of 5:', bin(one))\n",
    "two = 10; print('bin of 10:', bin(two))\n",
    "print('bin of', one^two, bin(one^two))"
   ]
  },
  {
   "cell_type": "code",
   "execution_count": null,
   "metadata": {
    "colab": {
     "base_uri": "https://localhost:8080/"
    },
    "executionInfo": {
     "elapsed": 997,
     "status": "ok",
     "timestamp": 1611851678049,
     "user": {
      "displayName": "Hermine Grigoryan",
      "photoUrl": "https://lh3.googleusercontent.com/a-/AOh14GjLwIo-2VVUykQLxY5cizSa0c6YxyRviiU_gbgszA=s64",
      "userId": "06963124555133391589"
     },
     "user_tz": -240
    },
    "id": "EwWjEXV1LsNS",
    "outputId": "5ffcc0d4-6e2f-468f-a6be-b7ab707ae068"
   },
   "outputs": [
    {
     "name": "stdout",
     "output_type": "stream",
     "text": [
      "bin of 5: 0b101\n",
      "bin of 5: 0b1010\n",
      "10 5\n"
     ]
    }
   ],
   "source": [
    "one = 5; print('bin of 5:', bin(one))\n",
    "two = 10; print('bin of 5:', bin(two))\n",
    "one = one^two; two = one - two; one = one - two; print(one, two)"
   ]
  },
  {
   "cell_type": "markdown",
   "metadata": {
    "id": "INc5n2hJHiwT"
   },
   "source": [
    "**Exercise 2**\n",
    "\n",
    "You have two numbers: one = 5, two = 10. Swap the values of these two numbers using an approch besides XOR. Perform all the calculations in one line."
   ]
  },
  {
   "cell_type": "code",
   "execution_count": 2,
   "metadata": {
    "colab": {
     "base_uri": "https://localhost:8080/"
    },
    "executionInfo": {
     "elapsed": 1429,
     "status": "ok",
     "timestamp": 1612007392719,
     "user": {
      "displayName": "Hermine Grigoryan",
      "photoUrl": "https://lh3.googleusercontent.com/a-/AOh14GjLwIo-2VVUykQLxY5cizSa0c6YxyRviiU_gbgszA=s64",
      "userId": "06963124555133391589"
     },
     "user_tz": -240
    },
    "id": "mKM0zicUHiQV",
    "outputId": "a3736173-dbb2-478f-cdf6-ea910944c59f"
   },
   "outputs": [
    {
     "name": "stdout",
     "output_type": "stream",
     "text": [
      "one: 10 ; two: 5\n"
     ]
    }
   ],
   "source": [
    "one = 5\n",
    "two = 10\n",
    "\n",
    "one = two + one; two = one - two; one = one - two; print('one:', one, '; two:', two)"
   ]
  },
  {
   "cell_type": "markdown",
   "metadata": {
    "id": "qU99VLuPU1-2"
   },
   "source": [
    "#### Compound Expressions and Operator Precedence"
   ]
  },
  {
   "cell_type": "markdown",
   "metadata": {
    "id": "Wm4SCd8W9O5F"
   },
   "source": [
    "Programming languages must have clear rules for the order in which compound expressions are evaluated. Operators in a category with higher precedence will be evaluated before those with lower precedence, unless the expression is otherwise parenthesized.  Operators within a category are typically evaluated from left to right. Exceptions to this rule include await, unary operators, bitwise not and exponentiation that are evaluated from right to left. The direction of evaluation is called associativity.\n",
    "\n",
    "| Operator | Name | Rank |Associativity |\n",
    "| ---|------|------|------|\n",
    "| (), [], (,) | Parentheses, Lists, Dicts, Sets | 1 |Left-to-right|\n",
    "| x[index:index],  x[index], x.attribute, f(args...)  | Slicing, Subscription, Attribute Reference, Function call|  2 |Left-to-right|\n",
    "| await | Await Expression| 3 |Right-to-left|\n",
    "| ** | Exponentiation| 4 |Right-to-left|\n",
    "| +, -, ~ | Unary plus(Positive sign), Unary minus(Negative sign), Bitwise NOT | 5 |Right-to-left|\n",
    "| *, @, /, //,% | Multiplication, Matrix Multiplication, Division, Floor division, Remainder | 6 |Left-to-right|\n",
    "| +,- | Addition and Subtraction | 7 |Left-to-right|\n",
    "| <<, >> | Bitwise Shifts | 8 |Left-to-right|\n",
    "| & | Bitwise AND | 9 |Left-to-right|\n",
    "| ^ | Bitwise XOR | 10|Left-to-right|\n",
    "| \\| | Bitwise OR | 11 |Left-to-right|\n",
    "| <,<=,>,<,>=, == , != , in, not in, is, is not| Comparison, Equality, Membership and Identity Operators| 12 |Left-to-right|\n",
    "| not | Boolean NOT | 13 |Left-to-right|\n",
    "| and | Boolean AND | 14 | Left-to-right|\n",
    "| or | Boolean OR | 15 | Left-to-right|\n",
    "| if - else | Conditional Expression | 16 | Left-to-right|\n",
    "| lambda | Lambda expression | 17 | Left-to-right|\n",
    "| =, +=, -=, /=, \\*=, **= | Assignment Operators | 18 |Left-to-right|"
   ]
  },
  {
   "cell_type": "markdown",
   "metadata": {
    "id": "4yOUZBG9hOPs"
   },
   "source": [
    "6. Without running a Python code, say what will be the output of the following program and justify your answer.\n",
    "* $5**1**2$\n",
    "* $3+~-~2**2$"
   ]
  }
 ],
 "metadata": {
  "colab": {
   "collapsed_sections": [
    "PTgrseaBUccW",
    "pnkBkFtLUcce",
    "KKpiSzdUUccl",
    "zWldr7qxSZnx",
    "u6GVcCopJcHa",
    "QEaIhh-PJiVY",
    "VTsGAGO7MtJM",
    "smCls4daNb-O",
    "RguiivxXRlTq",
    "XxprLG5Vp5i3",
    "qU99VLuPU1-2"
   ],
   "name": "PSS2_HG.ipynb",
   "provenance": []
  },
  "kernelspec": {
   "display_name": "Python 3",
   "language": "python",
   "name": "python3"
  },
  "language_info": {
   "codemirror_mode": {
    "name": "ipython",
    "version": 3
   },
   "file_extension": ".py",
   "mimetype": "text/x-python",
   "name": "python",
   "nbconvert_exporter": "python",
   "pygments_lexer": "ipython3",
   "version": "3.8.3"
  }
 },
 "nbformat": 4,
 "nbformat_minor": 1
}
