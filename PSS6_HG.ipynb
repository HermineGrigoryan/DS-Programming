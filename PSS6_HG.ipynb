{
 "cells": [
  {
   "cell_type": "markdown",
   "metadata": {
    "id": "wfL-YJl1fVOS"
   },
   "source": [
    "# Problem Solving Session 4\n",
    "## Topic: Lecture 4 - Control Flow\n",
    "##### Date: February 13, 2021\n",
    "##### By: Hermine Grigoryan"
   ]
  },
  {
   "cell_type": "markdown",
   "metadata": {},
   "source": [
    "## Imports"
   ]
  },
  {
   "cell_type": "code",
   "execution_count": 29,
   "metadata": {},
   "outputs": [],
   "source": [
    "import random\n",
    "import string\n",
    "from tqdm import tqdm"
   ]
  },
  {
   "cell_type": "markdown",
   "metadata": {
    "id": "pyQP8FAqm9Kf"
   },
   "source": [
    "## Exercise 1\n",
    "Write a program to reverse the digits of a given integer without using any built-in function or slicing (like reverse or [::-1]). (Example: 12345 to 54321). Run the program for 4815162342."
   ]
  },
  {
   "cell_type": "code",
   "execution_count": null,
   "metadata": {
    "id": "9vTxnz6Nm9Kf",
    "outputId": "be52331a-e2cc-4de3-eb81-46906e7c2fe7"
   },
   "outputs": [
    {
     "data": {
      "text/plain": [
       "2432615184"
      ]
     },
     "execution_count": 18,
     "metadata": {
      "tags": []
     },
     "output_type": "execute_result"
    }
   ],
   "source": [
    "my_int = 4815162342\n",
    "my_int = str(my_int)\n",
    "new_int = ''\n",
    "for i in range(-len(my_int)+1, 1):\n",
    "    i = -i\n",
    "    new_int += str(my_int[i])\n",
    "\n",
    "int(new_int)"
   ]
  },
  {
   "cell_type": "code",
   "execution_count": 91,
   "metadata": {},
   "outputs": [
    {
     "data": {
      "text/plain": [
       "2432615184"
      ]
     },
     "execution_count": 91,
     "metadata": {},
     "output_type": "execute_result"
    }
   ],
   "source": [
    "my_int = 4815162342\n",
    "my_int = str(my_int)\n",
    "new_int = ''\n",
    "for i in range(len(my_int)-1, -1, -1):\n",
    "    new_int += str(my_int[i])\n",
    "\n",
    "int(new_int)"
   ]
  },
  {
   "cell_type": "markdown",
   "metadata": {
    "id": "B9cmAW4dm9Kh"
   },
   "source": [
    "## Exercise 2\n",
    "Two people throw two six-sided fair dices each. The one with greater sum wins, and if the sum is equal, they draw. Write a program that simulates the game and plays 100 time. Print the number of wins of Player 1, Player 2 and draws."
   ]
  },
  {
   "cell_type": "code",
   "execution_count": null,
   "metadata": {
    "id": "hFbJQoKJm9Kh",
    "outputId": "dbd3259f-bcdc-4a0c-d910-d476025623dd"
   },
   "outputs": [
    {
     "name": "stdout",
     "output_type": "stream",
     "text": [
      "Number of times Player 1 wins: 47 \n",
      "Number of times Player 2 wins: 43 \n",
      "Number of draws: 10\n"
     ]
    }
   ],
   "source": [
    "N = 100\n",
    "\n",
    "p1_wins = 0\n",
    "p2_wins = 0\n",
    "draws = 0\n",
    "\n",
    "for i in range(N):\n",
    "    \n",
    "    p1 = random.randint(1, 6) + random.randint(1, 6)\n",
    "    p2 = random.randint(1, 6) + random.randint(1, 6)\n",
    "\n",
    "    if p1>p2:\n",
    "        p1_wins += 1\n",
    "    elif p1<p2:\n",
    "        p2_wins += 1\n",
    "    else:\n",
    "        draws += 1\n",
    "        \n",
    "print(f'Number of times Player 1 wins: {p1_wins} \\nNumber of times Player 2 wins: {p2_wins} \\nNumber of draws: {draws}')"
   ]
  },
  {
   "cell_type": "markdown",
   "metadata": {
    "id": "LTsspT65m9Kh"
   },
   "source": [
    "## Exercise 3\n",
    "Write a program that returns the index of the first negative number of the list. It should use a while loop and it should return -1 if there are no negative numbers in the\n",
    "list."
   ]
  },
  {
   "cell_type": "code",
   "execution_count": 5,
   "metadata": {},
   "outputs": [
    {
     "name": "stdout",
     "output_type": "stream",
     "text": [
      "-1\n"
     ]
    }
   ],
   "source": [
    "ls = [1, 2, 3, 1, 4, 8, 10]\n",
    "\n",
    "i = 0\n",
    "\n",
    "while True:\n",
    "    if ls[i]<0:\n",
    "        print(i)\n",
    "        break\n",
    "    elif len(ls)-1 == i:\n",
    "        print('-1')\n",
    "        break\n",
    "    i += 1\n",
    "    "
   ]
  },
  {
   "cell_type": "code",
   "execution_count": 1,
   "metadata": {
    "id": "4qmE55Xrm9Ki",
    "outputId": "4577457a-4c6d-445a-e57a-ada9218c1e90"
   },
   "outputs": [
    {
     "name": "stdout",
     "output_type": "stream",
     "text": [
      "3\n"
     ]
    }
   ],
   "source": [
    "ls = [1, 2, 3, -1, 4, 8, 10]\n",
    "\n",
    "n = len(ls)-1\n",
    "i = 0\n",
    "\n",
    "while i<=n:\n",
    "    if ls[i]<0:\n",
    "        print(i)\n",
    "        break\n",
    "    elif i == n:\n",
    "        print('-1')\n",
    "    \n",
    "    i += 1"
   ]
  },
  {
   "cell_type": "markdown",
   "metadata": {
    "id": "kf-WiklTm9Ki"
   },
   "source": [
    "## Exercise 4\n",
    "Write a python program to read three numbers (a,b,c) and check how many numbers between ‘a’ and ‘b’ are divisible by ‘c’"
   ]
  },
  {
   "cell_type": "code",
   "execution_count": null,
   "metadata": {
    "id": "MXl5xa3tm9Kj",
    "outputId": "54c9765a-00cb-494f-c829-195fd8b2e994"
   },
   "outputs": [
    {
     "data": {
      "text/plain": [
       "8"
      ]
     },
     "execution_count": 61,
     "metadata": {
      "tags": []
     },
     "output_type": "execute_result"
    }
   ],
   "source": [
    "a = 10\n",
    "b = 25\n",
    "c = 2\n",
    "\n",
    "i = a\n",
    "cnt = 0\n",
    "\n",
    "while i<=b:\n",
    "    if i%c == 0:\n",
    "        cnt+=1\n",
    "    i += 1\n",
    "cnt"
   ]
  },
  {
   "cell_type": "markdown",
   "metadata": {
    "id": "M32u3yGfm9Kk"
   },
   "source": [
    "## Exercise 5\n",
    "Suppose you had a list of people that arrived at a party you are hosting. The list is ordered by arrival (Jerry was the first to arrive, followed by Bob, etc.). Besides that, you know that the second list contains the family names of the arrived people. Create an ordered list (using 1, 2, 3, etc.) to list people's first and last names."
   ]
  },
  {
   "cell_type": "code",
   "execution_count": null,
   "metadata": {
    "id": "nNvJ8IVIm9Kl",
    "outputId": "5a564c0f-d59b-4788-c4d0-e2ae031610f9"
   },
   "outputs": [
    {
     "name": "stdout",
     "output_type": "stream",
     "text": [
      "1. Jerry Bond\n",
      "2. Bob Kramer\n",
      "3. Elaine Bush\n",
      "4. George Harrisson\n",
      "5. Donald Trump\n"
     ]
    }
   ],
   "source": [
    "first = ['Jerry', 'Bob', 'Elaine', 'George', 'Donald']\n",
    "last = ['Bond', 'Kramer', 'Bush', 'Harrisson', 'Trump']\n",
    "\n",
    "for element, (i,j) in enumerate(zip(first, last), 1):\n",
    "    print(f'{element}. {i} {j}')"
   ]
  },
  {
   "cell_type": "markdown",
   "metadata": {
    "id": "m_gVDBYzm9Km"
   },
   "source": [
    "## Exercise 6\n",
    "Using a list comprehension, create a new list called \"newlist\" out of the list \"numbers\", which contains only the positive numbers from the list, as integers."
   ]
  },
  {
   "cell_type": "code",
   "execution_count": 11,
   "metadata": {
    "id": "CwRx5S_7m9Km",
    "outputId": "0291b7cc-d2d6-4d0b-b5db-960d2408830c"
   },
   "outputs": [
    {
     "name": "stdout",
     "output_type": "stream",
     "text": [
      "[34.6, 44.9, 68.3, 44.6, 12.7]\n"
     ]
    }
   ],
   "source": [
    "numbers = [34.6, -203.4, 44.9, 68.3, -12.2, 44.6, 12.7]\n",
    "newlist = [i for i in numbers if i>0]\n",
    "print(newlist)"
   ]
  },
  {
   "cell_type": "markdown",
   "metadata": {
    "id": "mRndR2lYm9Kn"
   },
   "source": [
    "## Exercise 7\n",
    "Given dictionary is consisted of vehicles and their weights in kilograms. Construct a list of the names of vehicles with weight below 5000 kilograms and output the names which do not start by letter 'S'. In the same list comprehension make the key names all upper case."
   ]
  },
  {
   "cell_type": "code",
   "execution_count": 3,
   "metadata": {
    "id": "J6seJL0Cm9Ko"
   },
   "outputs": [],
   "source": [
    "dct={\"Sedan\": 1500, \"SUV\": 2000, \"Pickup\": 2500, \"Minivan\": 1600, \"Van\": 2400, \"Semi\": 13600, \"Bicycle\": 7, \"Motorcycle\": 110}"
   ]
  },
  {
   "cell_type": "code",
   "execution_count": 4,
   "metadata": {
    "id": "SKVxUmwJm9Kp",
    "outputId": "ee49d20f-e520-44af-a2d5-74a83828da45"
   },
   "outputs": [
    {
     "data": {
      "text/plain": [
       "['PICKUP', 'MINIVAN', 'VAN', 'BICYCLE', 'MOTORCYCLE']"
      ]
     },
     "execution_count": 4,
     "metadata": {},
     "output_type": "execute_result"
    }
   ],
   "source": [
    "[i.upper() for i in dct if dct[i]<5000 and i[0]!='S']"
   ]
  },
  {
   "cell_type": "markdown",
   "metadata": {
    "id": "CWlJL5w_m9Kq"
   },
   "source": [
    "## Exercise 8\n",
    "<font>\n",
    "    \n",
    "Convert the below code to one line using list comprehension\n",
    "\n",
    "``` Python\n",
    "result = []\n",
    "for x in list_1:\n",
    "    for y in list_2:\n",
    "        if 6< x+y <10:\n",
    "            result.append((x,y))\n",
    "        else:\n",
    "            result.append((0))\n",
    "```    \n",
    "     \n",
    "</font>"
   ]
  },
  {
   "cell_type": "code",
   "execution_count": null,
   "metadata": {
    "id": "Ynicec-6m9Kr",
    "outputId": "ade1d3af-7637-4857-8d1b-d1780763bbe8"
   },
   "outputs": [
    {
     "data": {
      "text/plain": [
       "[0, 0, (1, 8), 0, 0, (2, 5), 0, 0, 0, (3, 5), 0, 0, 0, (4, 5), 0, 0]"
      ]
     },
     "execution_count": 77,
     "metadata": {
      "tags": []
     },
     "output_type": "execute_result"
    }
   ],
   "source": [
    "list_1 = [1, 2, 3, 4]\n",
    "list_2 = [1, 5, 8, 9]\n",
    "\n",
    "[(x,y) if 6<x+y<10 else (0) for x in list_1 for y in list_2 ]"
   ]
  },
  {
   "cell_type": "markdown",
   "metadata": {
    "id": "3-3yxy_Nm9Ks"
   },
   "source": [
    "## Exercise 9\n",
    "Scrabble is a game where players get points by spelling words. Words are scored by adding together the point values of each individual letter. Write a program that takes a string word as input and returns the equivalent scrabble score for that word."
   ]
  },
  {
   "cell_type": "code",
   "execution_count": null,
   "metadata": {
    "id": "afw-kbMpm9Kt"
   },
   "outputs": [],
   "source": [
    "score = {\"a\": 1, \"c\": 3, \"b\": 3, \"e\": 1, \"d\": 2, \"g\": 2,\n",
    "         \"f\": 4, \"i\": 1, \"h\": 4, \"k\": 5, \"j\": 8, \"m\": 3,\n",
    "         \"l\": 1, \"o\": 1, \"n\": 1, \"q\": 10, \"p\": 3, \"s\": 1,\n",
    "         \"r\": 1, \"u\": 1, \"t\": 1, \"w\": 4, \"v\": 4, \"y\": 4,\n",
    "         \"x\": 8, \"z\": 10}\n",
    "word = 'magnificent'"
   ]
  },
  {
   "cell_type": "code",
   "execution_count": null,
   "metadata": {
    "id": "grsLVkSJm9Kt",
    "outputId": "aac5cb0c-08d2-49a4-9f03-2d307c392a31"
   },
   "outputs": [
    {
     "data": {
      "text/plain": [
       "19"
      ]
     },
     "execution_count": 11,
     "metadata": {
      "tags": []
     },
     "output_type": "execute_result"
    }
   ],
   "source": [
    "initial_score = 0\n",
    "for i in word:\n",
    "    initial_score += score[i]\n",
    "\n",
    "initial_score"
   ]
  },
  {
   "cell_type": "code",
   "execution_count": null,
   "metadata": {
    "id": "qXViy4UIm9Ku",
    "outputId": "5839ce3a-3168-49d3-cd51-880bd66c416a"
   },
   "outputs": [
    {
     "data": {
      "text/plain": [
       "19"
      ]
     },
     "execution_count": 12,
     "metadata": {
      "tags": []
     },
     "output_type": "execute_result"
    }
   ],
   "source": [
    "initial_score = 0\n",
    "sum([initial_score + score[i] for i in word])"
   ]
  },
  {
   "cell_type": "markdown",
   "metadata": {
    "id": "4km7d7N6m9Ku"
   },
   "source": [
    "## Exercise 10\n",
    "A movie theater charges different ticket prices depending on a person’s age. If a person is under the age of 3, the ticket is free; if they are between 3 and 12, the ticket is \\\\$10; and if they are over age 12, the ticket is $15. Write a loop in which you ask users their age, and then tel them the cost of their movie ticket. If there are no more people left, quit the program."
   ]
  },
  {
   "cell_type": "code",
   "execution_count": 6,
   "metadata": {
    "id": "LRvnJqhcm9Kv",
    "outputId": "49f6b433-f365-4cd4-baa0-dd215932f81e"
   },
   "outputs": [
    {
     "name": "stdout",
     "output_type": "stream",
     "text": [
      "Tell your age (if you want to quit, print \"quit\"): 4\n",
      "You should pay $10\n",
      "Tell your age (if you want to quit, print \"quit\"): 12\n",
      "You should pay $10\n",
      "Tell your age (if you want to quit, print \"quit\"): 99\n",
      "You should pay $15\n",
      "Tell your age (if you want to quit, print \"quit\"): quit\n"
     ]
    }
   ],
   "source": [
    "while True:\n",
    "    \n",
    "    age = input('Tell your age (if you want to quit, print \"quit\"): ')\n",
    "    \n",
    "    if age=='quit':\n",
    "        break    \n",
    "    elif int(age)<=3:\n",
    "        print('The ticket is free')\n",
    "    elif int(age)<=12:\n",
    "        print('You should pay $10')\n",
    "    elif int(age)>12:\n",
    "        print('You should pay $15')"
   ]
  },
  {
   "cell_type": "markdown",
   "metadata": {
    "id": "8oMt2lrvm9Kw"
   },
   "source": [
    "## Exercise 10\n",
    "Given a list of meals served over some period of time, return True if the same meal has ever been served two days in a row, and False otherwise. Use dictionary comprehensions."
   ]
  },
  {
   "cell_type": "code",
   "execution_count": 21,
   "metadata": {
    "id": "3dJSwudkm9Kw",
    "outputId": "2f0c8490-a2c3-4b44-9f3e-3d31893a1d5c"
   },
   "outputs": [
    {
     "data": {
      "text/plain": [
       "{'D1 & D2': False,\n",
       " 'D2 & D3': False,\n",
       " 'D3 & D4': True,\n",
       " 'D4 & D5': False,\n",
       " 'D5 & D6': False}"
      ]
     },
     "execution_count": 21,
     "metadata": {},
     "output_type": "execute_result"
    }
   ],
   "source": [
    "menu = ['pizza', 'salad', 'tolma', 'tolma', 'khorovats', 'fruit']\n",
    "{f'D{ind} & D{ind+1}' : d1==d2 for ind, (d1, d2) in enumerate(zip(menu, menu[1:]), 1)}"
   ]
  },
  {
   "cell_type": "markdown",
   "metadata": {
    "id": "qrdzaMIwm9Kx"
   },
   "source": [
    "## Exercise 11\n",
    "Given a sentence, produce a dictionary of the lengths of each word in the sentence, but only if the word is not an article. First remove all punctuations."
   ]
  },
  {
   "cell_type": "code",
   "execution_count": 40,
   "metadata": {},
   "outputs": [
    {
     "data": {
      "text/plain": [
       "{'little': 6,\n",
       " 'prince': 6,\n",
       " 'describes': 9,\n",
       " 'his': 3,\n",
       " 'journey': 7,\n",
       " 'from': 4,\n",
       " 'planet': 6,\n",
       " 'to': 2,\n",
       " 'each': 4,\n",
       " 'tiny': 4,\n",
       " 'world': 5,\n",
       " 'populated': 9,\n",
       " 'by': 2,\n",
       " 'single': 6,\n",
       " 'adult': 5}"
      ]
     },
     "execution_count": 40,
     "metadata": {},
     "output_type": "execute_result"
    }
   ],
   "source": [
    "sent = 'The Little Prince describes his journey from planet to planet, each tiny world populated by a single adult.'\n",
    "sent = ''.join([i.lower() for i in sent if i not in string.punctuation])\n",
    "{i:len(i) for i in sent.split() if i not in ['a', 'an', 'the']} "
   ]
  },
  {
   "cell_type": "markdown",
   "metadata": {},
   "source": [
    "## Exercise 12\n",
    "Generate 10 random floats in a square with with side equal to 4 and center=(0,0) and generate a list of x and y pairs (in a tuple). The list should contain only those pairs where x>y. Calculate the percentage of cases where x>y.\n",
    "\n",
    "What will happen if you increase the number of iterations?"
   ]
  },
  {
   "cell_type": "code",
   "execution_count": 78,
   "metadata": {},
   "outputs": [
    {
     "name": "stderr",
     "output_type": "stream",
     "text": [
      "100%|████████████████████████████████████████████████████████████████████| 1000000/1000000 [00:01<00:00, 967602.43it/s]\n"
     ]
    },
    {
     "data": {
      "text/plain": [
       "0.499225"
      ]
     },
     "execution_count": 78,
     "metadata": {},
     "output_type": "execute_result"
    }
   ],
   "source": [
    "ls = []\n",
    "N = 1000000\n",
    "\n",
    "for i in tqdm(range(N)):\n",
    "    x = random.uniform(-2, 2.000000001)\n",
    "    y = random.uniform(-2, 2.000000001)\n",
    "    if x>y:\n",
    "        ls.append((x,y))\n",
    "len(ls)/N"
   ]
  },
  {
   "cell_type": "markdown",
   "metadata": {},
   "source": [
    "## Exercise 13\n",
    "Given a list, filter out all `NaN` values with their indexes."
   ]
  },
  {
   "cell_type": "code",
   "execution_count": 79,
   "metadata": {},
   "outputs": [],
   "source": [
    "ls = [1, float(\"NaN\"), 5, 10.2, 25.3, 100, float(\"NaN\"), 3, 2, float(\"NaN\"), 4]"
   ]
  },
  {
   "cell_type": "code",
   "execution_count": 103,
   "metadata": {},
   "outputs": [
    {
     "data": {
      "text/plain": [
       "[(1, nan), (6, nan), (9, nan)]"
      ]
     },
     "execution_count": 103,
     "metadata": {},
     "output_type": "execute_result"
    }
   ],
   "source": [
    "[(ind,j) for ind,j in enumerate(ls) if j!=j]"
   ]
  }
 ],
 "metadata": {
  "colab": {
   "collapsed_sections": [],
   "name": "PSS6_HG.ipynb",
   "provenance": []
  },
  "kernelspec": {
   "display_name": "Python 3",
   "language": "python",
   "name": "python3"
  },
  "language_info": {
   "codemirror_mode": {
    "name": "ipython",
    "version": 3
   },
   "file_extension": ".py",
   "mimetype": "text/x-python",
   "name": "python",
   "nbconvert_exporter": "python",
   "pygments_lexer": "ipython3",
   "version": "3.8.3"
  }
 },
 "nbformat": 4,
 "nbformat_minor": 1
}
